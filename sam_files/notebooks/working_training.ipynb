{
 "cells": [
  {
   "cell_type": "code",
   "execution_count": 19,
   "id": "bbe9143d-e692-4674-9e30-b5b2699cba92",
   "metadata": {
    "tags": []
   },
   "outputs": [
    {
     "name": "stdout",
     "output_type": "stream",
     "text": [
      "<module 'torch.version' from '/home/ec2-user/anaconda3/envs/pytorch_p310/lib/python3.10/site-packages/torch/version.py'>\n",
      "True\n",
      "4\n",
      "0\n",
      "NVIDIA A10G\n"
     ]
    }
   ],
   "source": [
    "import torch\n",
    "print(torch.version)\n",
    "print(torch.cuda.is_available())\n",
    "print(torch.cuda.device_count())\n",
    "print(torch.cuda.current_device())\n",
    "print(torch.cuda.get_device_name(0))"
   ]
  },
  {
   "cell_type": "code",
   "execution_count": 20,
   "id": "2798ddd3-7ff2-4ba1-80c0-6ec6bfe2b30e",
   "metadata": {
    "tags": []
   },
   "outputs": [
    {
     "name": "stdout",
     "output_type": "stream",
     "text": [
      "fatal: destination path 'stable-audio-tools-sam' already exists and is not an empty directory.\n"
     ]
    }
   ],
   "source": [
    "!git clone https://github.com/arthurcornelio88/stable-audio-tools-sam.git"
   ]
  },
  {
   "cell_type": "code",
   "execution_count": 21,
   "id": "bff2aea0-57f1-4a6c-ac95-799e8d152e70",
   "metadata": {
    "tags": []
   },
   "outputs": [
    {
     "name": "stdout",
     "output_type": "stream",
     "text": [
      "Requirement already satisfied: stable-audio-tools in /home/ec2-user/anaconda3/envs/pytorch_p310/lib/python3.10/site-packages (0.0.16)\n",
      "Requirement already satisfied: aeiou==0.0.20 in /home/ec2-user/anaconda3/envs/pytorch_p310/lib/python3.10/site-packages (from stable-audio-tools) (0.0.20)\n",
      "Requirement already satisfied: alias-free-torch==0.0.6 in /home/ec2-user/anaconda3/envs/pytorch_p310/lib/python3.10/site-packages (from stable-audio-tools) (0.0.6)\n",
      "Requirement already satisfied: auraloss==0.4.0 in /home/ec2-user/anaconda3/envs/pytorch_p310/lib/python3.10/site-packages (from stable-audio-tools) (0.4.0)\n",
      "Requirement already satisfied: descript-audio-codec==1.0.0 in /home/ec2-user/anaconda3/envs/pytorch_p310/lib/python3.10/site-packages (from stable-audio-tools) (1.0.0)\n",
      "Requirement already satisfied: einops==0.7.0 in /home/ec2-user/anaconda3/envs/pytorch_p310/lib/python3.10/site-packages (from stable-audio-tools) (0.7.0)\n",
      "Requirement already satisfied: einops-exts==0.0.4 in /home/ec2-user/anaconda3/envs/pytorch_p310/lib/python3.10/site-packages (from stable-audio-tools) (0.0.4)\n",
      "Requirement already satisfied: ema-pytorch==0.2.3 in /home/ec2-user/anaconda3/envs/pytorch_p310/lib/python3.10/site-packages (from stable-audio-tools) (0.2.3)\n",
      "Requirement already satisfied: encodec==0.1.1 in /home/ec2-user/anaconda3/envs/pytorch_p310/lib/python3.10/site-packages (from stable-audio-tools) (0.1.1)\n",
      "Requirement already satisfied: gradio>=3.42.0 in /home/ec2-user/anaconda3/envs/pytorch_p310/lib/python3.10/site-packages (from stable-audio-tools) (4.38.1)\n",
      "Requirement already satisfied: huggingface-hub in /home/ec2-user/anaconda3/envs/pytorch_p310/lib/python3.10/site-packages (from stable-audio-tools) (0.23.4)\n",
      "Requirement already satisfied: importlib-resources==5.12.0 in /home/ec2-user/anaconda3/envs/pytorch_p310/lib/python3.10/site-packages (from stable-audio-tools) (5.12.0)\n",
      "Requirement already satisfied: k-diffusion==0.1.1 in /home/ec2-user/anaconda3/envs/pytorch_p310/lib/python3.10/site-packages (from stable-audio-tools) (0.1.1)\n",
      "Requirement already satisfied: laion-clap==1.1.4 in /home/ec2-user/anaconda3/envs/pytorch_p310/lib/python3.10/site-packages (from stable-audio-tools) (1.1.4)\n",
      "Requirement already satisfied: local-attention==1.8.6 in /home/ec2-user/anaconda3/envs/pytorch_p310/lib/python3.10/site-packages (from stable-audio-tools) (1.8.6)\n",
      "Requirement already satisfied: pandas==2.0.2 in /home/ec2-user/anaconda3/envs/pytorch_p310/lib/python3.10/site-packages (from stable-audio-tools) (2.0.2)\n",
      "Requirement already satisfied: pedalboard==0.7.4 in /home/ec2-user/anaconda3/envs/pytorch_p310/lib/python3.10/site-packages (from stable-audio-tools) (0.7.4)\n",
      "Requirement already satisfied: prefigure==0.0.9 in /home/ec2-user/anaconda3/envs/pytorch_p310/lib/python3.10/site-packages (from stable-audio-tools) (0.0.9)\n",
      "Requirement already satisfied: pytorch-lightning==2.1.0 in /home/ec2-user/anaconda3/envs/pytorch_p310/lib/python3.10/site-packages (from stable-audio-tools) (2.1.0)\n",
      "Requirement already satisfied: PyWavelets==1.4.1 in /home/ec2-user/anaconda3/envs/pytorch_p310/lib/python3.10/site-packages (from stable-audio-tools) (1.4.1)\n",
      "Requirement already satisfied: safetensors in /home/ec2-user/anaconda3/envs/pytorch_p310/lib/python3.10/site-packages (from stable-audio-tools) (0.4.3)\n",
      "Requirement already satisfied: sentencepiece==0.1.99 in /home/ec2-user/anaconda3/envs/pytorch_p310/lib/python3.10/site-packages (from stable-audio-tools) (0.1.99)\n",
      "Requirement already satisfied: s3fs in /home/ec2-user/anaconda3/envs/pytorch_p310/lib/python3.10/site-packages (from stable-audio-tools) (0.4.2)\n",
      "Requirement already satisfied: torch>=2.0.1 in /home/ec2-user/anaconda3/envs/pytorch_p310/lib/python3.10/site-packages (from stable-audio-tools) (2.2.0)\n",
      "Requirement already satisfied: torchaudio>=2.0.2 in /home/ec2-user/anaconda3/envs/pytorch_p310/lib/python3.10/site-packages (from stable-audio-tools) (2.2.0)\n",
      "Requirement already satisfied: torchmetrics==0.11.4 in /home/ec2-user/anaconda3/envs/pytorch_p310/lib/python3.10/site-packages (from stable-audio-tools) (0.11.4)\n",
      "Requirement already satisfied: tqdm in /home/ec2-user/anaconda3/envs/pytorch_p310/lib/python3.10/site-packages (from stable-audio-tools) (4.66.4)\n",
      "Requirement already satisfied: transformers in /home/ec2-user/anaconda3/envs/pytorch_p310/lib/python3.10/site-packages (from stable-audio-tools) (4.42.4)\n",
      "Requirement already satisfied: v-diffusion-pytorch==0.0.2 in /home/ec2-user/anaconda3/envs/pytorch_p310/lib/python3.10/site-packages (from stable-audio-tools) (0.0.2)\n",
      "Requirement already satisfied: vector-quantize-pytorch==1.9.14 in /home/ec2-user/anaconda3/envs/pytorch_p310/lib/python3.10/site-packages (from stable-audio-tools) (1.9.14)\n",
      "Requirement already satisfied: wandb==0.15.4 in /home/ec2-user/anaconda3/envs/pytorch_p310/lib/python3.10/site-packages (from stable-audio-tools) (0.15.4)\n",
      "Requirement already satisfied: webdataset==0.2.48 in /home/ec2-user/anaconda3/envs/pytorch_p310/lib/python3.10/site-packages (from stable-audio-tools) (0.2.48)\n",
      "Requirement already satisfied: x-transformers<1.27.0 in /home/ec2-user/anaconda3/envs/pytorch_p310/lib/python3.10/site-packages (from stable-audio-tools) (1.26.6)\n",
      "Requirement already satisfied: fastcore in /home/ec2-user/anaconda3/envs/pytorch_p310/lib/python3.10/site-packages (from aeiou==0.0.20->stable-audio-tools) (1.5.51)\n",
      "Requirement already satisfied: numpy in /home/ec2-user/anaconda3/envs/pytorch_p310/lib/python3.10/site-packages (from aeiou==0.0.20->stable-audio-tools) (1.23.5)\n",
      "Requirement already satisfied: plotly in /home/ec2-user/anaconda3/envs/pytorch_p310/lib/python3.10/site-packages (from aeiou==0.0.20->stable-audio-tools) (5.22.0)\n",
      "Requirement already satisfied: bokeh in /home/ec2-user/anaconda3/envs/pytorch_p310/lib/python3.10/site-packages (from aeiou==0.0.20->stable-audio-tools) (3.4.1)\n",
      "Requirement already satisfied: holoviews in /home/ec2-user/anaconda3/envs/pytorch_p310/lib/python3.10/site-packages (from aeiou==0.0.20->stable-audio-tools) (1.19.1)\n",
      "Requirement already satisfied: scipy in /home/ec2-user/anaconda3/envs/pytorch_p310/lib/python3.10/site-packages (from aeiou==0.0.20->stable-audio-tools) (1.13.1)\n",
      "Requirement already satisfied: torchvision in /home/ec2-user/anaconda3/envs/pytorch_p310/lib/python3.10/site-packages (from aeiou==0.0.20->stable-audio-tools) (0.17.0)\n",
      "Requirement already satisfied: matplotlib in /home/ec2-user/anaconda3/envs/pytorch_p310/lib/python3.10/site-packages (from aeiou==0.0.20->stable-audio-tools) (3.8.4)\n",
      "Requirement already satisfied: pillow in /home/ec2-user/anaconda3/envs/pytorch_p310/lib/python3.10/site-packages (from aeiou==0.0.20->stable-audio-tools) (10.3.0)\n",
      "Requirement already satisfied: librosa>=0.8.1 in /home/ec2-user/anaconda3/envs/pytorch_p310/lib/python3.10/site-packages (from aeiou==0.0.20->stable-audio-tools) (0.9.2)\n",
      "Requirement already satisfied: ipython in /home/ec2-user/anaconda3/envs/pytorch_p310/lib/python3.10/site-packages (from aeiou==0.0.20->stable-audio-tools) (8.25.0)\n",
      "Requirement already satisfied: accelerate in /home/ec2-user/anaconda3/envs/pytorch_p310/lib/python3.10/site-packages (from aeiou==0.0.20->stable-audio-tools) (0.32.1)\n",
      "Requirement already satisfied: soundfile<=0.10.2 in /home/ec2-user/anaconda3/envs/pytorch_p310/lib/python3.10/site-packages (from aeiou==0.0.20->stable-audio-tools) (0.10.2)\n",
      "Requirement already satisfied: umap-learn in /home/ec2-user/anaconda3/envs/pytorch_p310/lib/python3.10/site-packages (from aeiou==0.0.20->stable-audio-tools) (0.5.6)\n",
      "Requirement already satisfied: argbind>=0.3.7 in /home/ec2-user/anaconda3/envs/pytorch_p310/lib/python3.10/site-packages (from descript-audio-codec==1.0.0->stable-audio-tools) (0.3.9)\n",
      "Requirement already satisfied: descript-audiotools>=0.7.2 in /home/ec2-user/anaconda3/envs/pytorch_p310/lib/python3.10/site-packages (from descript-audio-codec==1.0.0->stable-audio-tools) (0.7.2)\n",
      "Requirement already satisfied: clean-fid in /home/ec2-user/anaconda3/envs/pytorch_p310/lib/python3.10/site-packages (from k-diffusion==0.1.1->stable-audio-tools) (0.1.35)\n",
      "Requirement already satisfied: clip-anytorch in /home/ec2-user/anaconda3/envs/pytorch_p310/lib/python3.10/site-packages (from k-diffusion==0.1.1->stable-audio-tools) (2.6.0)\n",
      "Requirement already satisfied: dctorch in /home/ec2-user/anaconda3/envs/pytorch_p310/lib/python3.10/site-packages (from k-diffusion==0.1.1->stable-audio-tools) (0.1.2)\n",
      "Requirement already satisfied: jsonmerge in /home/ec2-user/anaconda3/envs/pytorch_p310/lib/python3.10/site-packages (from k-diffusion==0.1.1->stable-audio-tools) (1.9.2)\n",
      "Requirement already satisfied: kornia in /home/ec2-user/anaconda3/envs/pytorch_p310/lib/python3.10/site-packages (from k-diffusion==0.1.1->stable-audio-tools) (0.7.3)\n",
      "Requirement already satisfied: scikit-image in /home/ec2-user/anaconda3/envs/pytorch_p310/lib/python3.10/site-packages (from k-diffusion==0.1.1->stable-audio-tools) (0.24.0)\n",
      "Requirement already satisfied: torchdiffeq in /home/ec2-user/anaconda3/envs/pytorch_p310/lib/python3.10/site-packages (from k-diffusion==0.1.1->stable-audio-tools) (0.2.4)\n",
      "Requirement already satisfied: torchsde in /home/ec2-user/anaconda3/envs/pytorch_p310/lib/python3.10/site-packages (from k-diffusion==0.1.1->stable-audio-tools) (0.2.6)\n",
      "Requirement already satisfied: torchlibrosa in /home/ec2-user/anaconda3/envs/pytorch_p310/lib/python3.10/site-packages (from laion-clap==1.1.4->stable-audio-tools) (0.1.0)\n",
      "Requirement already satisfied: ftfy in /home/ec2-user/anaconda3/envs/pytorch_p310/lib/python3.10/site-packages (from laion-clap==1.1.4->stable-audio-tools) (6.2.0)\n",
      "Requirement already satisfied: braceexpand in /home/ec2-user/anaconda3/envs/pytorch_p310/lib/python3.10/site-packages (from laion-clap==1.1.4->stable-audio-tools) (0.1.7)\n",
      "Requirement already satisfied: wget in /home/ec2-user/anaconda3/envs/pytorch_p310/lib/python3.10/site-packages (from laion-clap==1.1.4->stable-audio-tools) (3.2)\n",
      "Requirement already satisfied: llvmlite in /home/ec2-user/anaconda3/envs/pytorch_p310/lib/python3.10/site-packages (from laion-clap==1.1.4->stable-audio-tools) (0.42.0)\n",
      "Requirement already satisfied: scikit-learn in /home/ec2-user/anaconda3/envs/pytorch_p310/lib/python3.10/site-packages (from laion-clap==1.1.4->stable-audio-tools) (1.5.0)\n",
      "Requirement already satisfied: h5py in /home/ec2-user/anaconda3/envs/pytorch_p310/lib/python3.10/site-packages (from laion-clap==1.1.4->stable-audio-tools) (3.11.0)\n",
      "Requirement already satisfied: regex in /home/ec2-user/anaconda3/envs/pytorch_p310/lib/python3.10/site-packages (from laion-clap==1.1.4->stable-audio-tools) (2024.5.15)\n",
      "Requirement already satisfied: progressbar in /home/ec2-user/anaconda3/envs/pytorch_p310/lib/python3.10/site-packages (from laion-clap==1.1.4->stable-audio-tools) (2.5)\n",
      "Requirement already satisfied: python-dateutil>=2.8.2 in /home/ec2-user/anaconda3/envs/pytorch_p310/lib/python3.10/site-packages (from pandas==2.0.2->stable-audio-tools) (2.9.0)\n",
      "Requirement already satisfied: pytz>=2020.1 in /home/ec2-user/anaconda3/envs/pytorch_p310/lib/python3.10/site-packages (from pandas==2.0.2->stable-audio-tools) (2024.1)\n",
      "Requirement already satisfied: tzdata>=2022.1 in /home/ec2-user/anaconda3/envs/pytorch_p310/lib/python3.10/site-packages (from pandas==2.0.2->stable-audio-tools) (2024.1)\n",
      "Collecting argparse (from prefigure==0.0.9->stable-audio-tools)\n",
      "  Using cached argparse-1.4.0-py2.py3-none-any.whl.metadata (2.8 kB)\n",
      "Requirement already satisfied: configparser in /home/ec2-user/anaconda3/envs/pytorch_p310/lib/python3.10/site-packages (from prefigure==0.0.9->stable-audio-tools) (7.0.0)\n",
      "Requirement already satisfied: gin-config in /home/ec2-user/anaconda3/envs/pytorch_p310/lib/python3.10/site-packages (from prefigure==0.0.9->stable-audio-tools) (0.5.0)\n",
      "Requirement already satisfied: PyYAML>=5.4 in /home/ec2-user/anaconda3/envs/pytorch_p310/lib/python3.10/site-packages (from pytorch-lightning==2.1.0->stable-audio-tools) (6.0.1)\n",
      "Requirement already satisfied: fsspec>2021.06.0 in /home/ec2-user/anaconda3/envs/pytorch_p310/lib/python3.10/site-packages (from fsspec[http]>2021.06.0->pytorch-lightning==2.1.0->stable-audio-tools) (2024.6.0)\n",
      "Requirement already satisfied: packaging>=20.0 in /home/ec2-user/anaconda3/envs/pytorch_p310/lib/python3.10/site-packages (from pytorch-lightning==2.1.0->stable-audio-tools) (21.3)\n",
      "Requirement already satisfied: typing-extensions>=4.0.0 in /home/ec2-user/anaconda3/envs/pytorch_p310/lib/python3.10/site-packages (from pytorch-lightning==2.1.0->stable-audio-tools) (4.12.1)\n",
      "Requirement already satisfied: lightning-utilities>=0.8.0 in /home/ec2-user/anaconda3/envs/pytorch_p310/lib/python3.10/site-packages (from pytorch-lightning==2.1.0->stable-audio-tools) (0.11.3.post0)\n",
      "Requirement already satisfied: requests in /home/ec2-user/anaconda3/envs/pytorch_p310/lib/python3.10/site-packages (from v-diffusion-pytorch==0.0.2->stable-audio-tools) (2.32.3)\n",
      "Requirement already satisfied: Click!=8.0.0,>=7.0 in /home/ec2-user/anaconda3/envs/pytorch_p310/lib/python3.10/site-packages (from wandb==0.15.4->stable-audio-tools) (8.1.7)\n",
      "Requirement already satisfied: GitPython!=3.1.29,>=1.0.0 in /home/ec2-user/anaconda3/envs/pytorch_p310/lib/python3.10/site-packages (from wandb==0.15.4->stable-audio-tools) (3.1.43)\n",
      "Requirement already satisfied: psutil>=5.0.0 in /home/ec2-user/anaconda3/envs/pytorch_p310/lib/python3.10/site-packages (from wandb==0.15.4->stable-audio-tools) (5.9.8)\n",
      "Requirement already satisfied: sentry-sdk>=1.0.0 in /home/ec2-user/anaconda3/envs/pytorch_p310/lib/python3.10/site-packages (from wandb==0.15.4->stable-audio-tools) (2.9.0)\n",
      "Requirement already satisfied: docker-pycreds>=0.4.0 in /home/ec2-user/anaconda3/envs/pytorch_p310/lib/python3.10/site-packages (from wandb==0.15.4->stable-audio-tools) (0.4.0)\n",
      "Requirement already satisfied: pathtools in /home/ec2-user/anaconda3/envs/pytorch_p310/lib/python3.10/site-packages (from wandb==0.15.4->stable-audio-tools) (0.1.2)\n",
      "Requirement already satisfied: setproctitle in /home/ec2-user/anaconda3/envs/pytorch_p310/lib/python3.10/site-packages (from wandb==0.15.4->stable-audio-tools) (1.3.3)\n",
      "Requirement already satisfied: setuptools in /home/ec2-user/anaconda3/envs/pytorch_p310/lib/python3.10/site-packages (from wandb==0.15.4->stable-audio-tools) (69.5.1)\n",
      "Requirement already satisfied: appdirs>=1.4.3 in /home/ec2-user/anaconda3/envs/pytorch_p310/lib/python3.10/site-packages (from wandb==0.15.4->stable-audio-tools) (1.4.4)\n",
      "Requirement already satisfied: protobuf!=4.21.0,<5,>=3.19.0 in /home/ec2-user/anaconda3/envs/pytorch_p310/lib/python3.10/site-packages (from wandb==0.15.4->stable-audio-tools) (3.19.6)\n",
      "Requirement already satisfied: aiofiles<24.0,>=22.0 in /home/ec2-user/anaconda3/envs/pytorch_p310/lib/python3.10/site-packages (from gradio>=3.42.0->stable-audio-tools) (23.2.1)\n",
      "Requirement already satisfied: altair<6.0,>=5.0 in /home/ec2-user/anaconda3/envs/pytorch_p310/lib/python3.10/site-packages (from gradio>=3.42.0->stable-audio-tools) (5.3.0)\n",
      "Requirement already satisfied: fastapi in /home/ec2-user/anaconda3/envs/pytorch_p310/lib/python3.10/site-packages (from gradio>=3.42.0->stable-audio-tools) (0.111.0)\n",
      "Requirement already satisfied: ffmpy in /home/ec2-user/anaconda3/envs/pytorch_p310/lib/python3.10/site-packages (from gradio>=3.42.0->stable-audio-tools) (0.3.2)\n",
      "Requirement already satisfied: gradio-client==1.1.0 in /home/ec2-user/anaconda3/envs/pytorch_p310/lib/python3.10/site-packages (from gradio>=3.42.0->stable-audio-tools) (1.1.0)\n",
      "Requirement already satisfied: httpx>=0.24.1 in /home/ec2-user/anaconda3/envs/pytorch_p310/lib/python3.10/site-packages (from gradio>=3.42.0->stable-audio-tools) (0.27.0)\n",
      "Requirement already satisfied: jinja2<4.0 in /home/ec2-user/anaconda3/envs/pytorch_p310/lib/python3.10/site-packages (from gradio>=3.42.0->stable-audio-tools) (3.1.4)\n",
      "Requirement already satisfied: markupsafe~=2.0 in /home/ec2-user/anaconda3/envs/pytorch_p310/lib/python3.10/site-packages (from gradio>=3.42.0->stable-audio-tools) (2.1.5)\n",
      "Requirement already satisfied: orjson~=3.0 in /home/ec2-user/anaconda3/envs/pytorch_p310/lib/python3.10/site-packages (from gradio>=3.42.0->stable-audio-tools) (3.10.6)\n",
      "Requirement already satisfied: pydantic>=2.0 in /home/ec2-user/anaconda3/envs/pytorch_p310/lib/python3.10/site-packages (from gradio>=3.42.0->stable-audio-tools) (2.7.3)\n",
      "Requirement already satisfied: pydub in /home/ec2-user/anaconda3/envs/pytorch_p310/lib/python3.10/site-packages (from gradio>=3.42.0->stable-audio-tools) (0.25.1)\n",
      "Requirement already satisfied: python-multipart>=0.0.9 in /home/ec2-user/anaconda3/envs/pytorch_p310/lib/python3.10/site-packages (from gradio>=3.42.0->stable-audio-tools) (0.0.9)\n",
      "Requirement already satisfied: ruff>=0.2.2 in /home/ec2-user/anaconda3/envs/pytorch_p310/lib/python3.10/site-packages (from gradio>=3.42.0->stable-audio-tools) (0.5.1)\n",
      "Requirement already satisfied: semantic-version~=2.0 in /home/ec2-user/anaconda3/envs/pytorch_p310/lib/python3.10/site-packages (from gradio>=3.42.0->stable-audio-tools) (2.10.0)\n",
      "Requirement already satisfied: tomlkit==0.12.0 in /home/ec2-user/anaconda3/envs/pytorch_p310/lib/python3.10/site-packages (from gradio>=3.42.0->stable-audio-tools) (0.12.0)\n",
      "Requirement already satisfied: typer<1.0,>=0.12 in /home/ec2-user/anaconda3/envs/pytorch_p310/lib/python3.10/site-packages (from gradio>=3.42.0->stable-audio-tools) (0.12.3)\n",
      "Requirement already satisfied: urllib3~=2.0 in /home/ec2-user/anaconda3/envs/pytorch_p310/lib/python3.10/site-packages (from gradio>=3.42.0->stable-audio-tools) (2.2.1)\n",
      "Requirement already satisfied: uvicorn>=0.14.0 in /home/ec2-user/anaconda3/envs/pytorch_p310/lib/python3.10/site-packages (from gradio>=3.42.0->stable-audio-tools) (0.30.1)\n",
      "Requirement already satisfied: websockets<12.0,>=10.0 in /home/ec2-user/anaconda3/envs/pytorch_p310/lib/python3.10/site-packages (from gradio-client==1.1.0->gradio>=3.42.0->stable-audio-tools) (11.0.3)\n",
      "Requirement already satisfied: filelock in /home/ec2-user/anaconda3/envs/pytorch_p310/lib/python3.10/site-packages (from huggingface-hub->stable-audio-tools) (3.14.0)\n",
      "Requirement already satisfied: sympy in /home/ec2-user/anaconda3/envs/pytorch_p310/lib/python3.10/site-packages (from torch>=2.0.1->stable-audio-tools) (1.12)\n",
      "Requirement already satisfied: networkx in /home/ec2-user/anaconda3/envs/pytorch_p310/lib/python3.10/site-packages (from torch>=2.0.1->stable-audio-tools) (3.3)\n",
      "Requirement already satisfied: botocore>=1.12.91 in /home/ec2-user/anaconda3/envs/pytorch_p310/lib/python3.10/site-packages (from s3fs->stable-audio-tools) (1.34.142)\n",
      "Requirement already satisfied: tokenizers<0.20,>=0.19 in /home/ec2-user/anaconda3/envs/pytorch_p310/lib/python3.10/site-packages (from transformers->stable-audio-tools) (0.19.1)\n",
      "Requirement already satisfied: jsonschema>=3.0 in /home/ec2-user/anaconda3/envs/pytorch_p310/lib/python3.10/site-packages (from altair<6.0,>=5.0->gradio>=3.42.0->stable-audio-tools) (4.22.0)\n",
      "Requirement already satisfied: toolz in /home/ec2-user/anaconda3/envs/pytorch_p310/lib/python3.10/site-packages (from altair<6.0,>=5.0->gradio>=3.42.0->stable-audio-tools) (0.12.1)\n",
      "Requirement already satisfied: docstring-parser in /home/ec2-user/anaconda3/envs/pytorch_p310/lib/python3.10/site-packages (from argbind>=0.3.7->descript-audio-codec==1.0.0->stable-audio-tools) (0.16)\n",
      "Requirement already satisfied: jmespath<2.0.0,>=0.7.1 in /home/ec2-user/anaconda3/envs/pytorch_p310/lib/python3.10/site-packages (from botocore>=1.12.91->s3fs->stable-audio-tools) (1.0.1)\n",
      "Requirement already satisfied: pyloudnorm in /home/ec2-user/anaconda3/envs/pytorch_p310/lib/python3.10/site-packages (from descript-audiotools>=0.7.2->descript-audio-codec==1.0.0->stable-audio-tools) (0.1.1)\n",
      "Requirement already satisfied: julius in /home/ec2-user/anaconda3/envs/pytorch_p310/lib/python3.10/site-packages (from descript-audiotools>=0.7.2->descript-audio-codec==1.0.0->stable-audio-tools) (0.2.7)\n",
      "Requirement already satisfied: rich in /home/ec2-user/anaconda3/envs/pytorch_p310/lib/python3.10/site-packages (from descript-audiotools>=0.7.2->descript-audio-codec==1.0.0->stable-audio-tools) (13.7.1)\n",
      "Requirement already satisfied: pystoi in /home/ec2-user/anaconda3/envs/pytorch_p310/lib/python3.10/site-packages (from descript-audiotools>=0.7.2->descript-audio-codec==1.0.0->stable-audio-tools) (0.4.1)\n",
      "Requirement already satisfied: torch-stoi in /home/ec2-user/anaconda3/envs/pytorch_p310/lib/python3.10/site-packages (from descript-audiotools>=0.7.2->descript-audio-codec==1.0.0->stable-audio-tools) (0.2.1)\n",
      "Requirement already satisfied: flatten-dict in /home/ec2-user/anaconda3/envs/pytorch_p310/lib/python3.10/site-packages (from descript-audiotools>=0.7.2->descript-audio-codec==1.0.0->stable-audio-tools) (0.4.2)\n",
      "Requirement already satisfied: markdown2 in /home/ec2-user/anaconda3/envs/pytorch_p310/lib/python3.10/site-packages (from descript-audiotools>=0.7.2->descript-audio-codec==1.0.0->stable-audio-tools) (2.5.0)\n",
      "Requirement already satisfied: randomname in /home/ec2-user/anaconda3/envs/pytorch_p310/lib/python3.10/site-packages (from descript-audiotools>=0.7.2->descript-audio-codec==1.0.0->stable-audio-tools) (0.2.1)\n",
      "Requirement already satisfied: tensorboard in /home/ec2-user/anaconda3/envs/pytorch_p310/lib/python3.10/site-packages (from descript-audiotools>=0.7.2->descript-audio-codec==1.0.0->stable-audio-tools) (2.17.0)\n",
      "Requirement already satisfied: six>=1.4.0 in /home/ec2-user/anaconda3/envs/pytorch_p310/lib/python3.10/site-packages (from docker-pycreds>=0.4.0->wandb==0.15.4->stable-audio-tools) (1.16.0)\n",
      "Requirement already satisfied: aiohttp!=4.0.0a0,!=4.0.0a1 in /home/ec2-user/anaconda3/envs/pytorch_p310/lib/python3.10/site-packages (from fsspec[http]>2021.06.0->pytorch-lightning==2.1.0->stable-audio-tools) (3.9.5)\n",
      "Requirement already satisfied: gitdb<5,>=4.0.1 in /home/ec2-user/anaconda3/envs/pytorch_p310/lib/python3.10/site-packages (from GitPython!=3.1.29,>=1.0.0->wandb==0.15.4->stable-audio-tools) (4.0.11)\n",
      "Requirement already satisfied: anyio in /home/ec2-user/anaconda3/envs/pytorch_p310/lib/python3.10/site-packages (from httpx>=0.24.1->gradio>=3.42.0->stable-audio-tools) (4.4.0)\n",
      "Requirement already satisfied: certifi in /home/ec2-user/anaconda3/envs/pytorch_p310/lib/python3.10/site-packages (from httpx>=0.24.1->gradio>=3.42.0->stable-audio-tools) (2024.2.2)\n",
      "Requirement already satisfied: httpcore==1.* in /home/ec2-user/anaconda3/envs/pytorch_p310/lib/python3.10/site-packages (from httpx>=0.24.1->gradio>=3.42.0->stable-audio-tools) (1.0.5)\n",
      "Requirement already satisfied: idna in /home/ec2-user/anaconda3/envs/pytorch_p310/lib/python3.10/site-packages (from httpx>=0.24.1->gradio>=3.42.0->stable-audio-tools) (3.7)\n",
      "Requirement already satisfied: sniffio in /home/ec2-user/anaconda3/envs/pytorch_p310/lib/python3.10/site-packages (from httpx>=0.24.1->gradio>=3.42.0->stable-audio-tools) (1.3.1)\n",
      "Requirement already satisfied: h11<0.15,>=0.13 in /home/ec2-user/anaconda3/envs/pytorch_p310/lib/python3.10/site-packages (from httpcore==1.*->httpx>=0.24.1->gradio>=3.42.0->stable-audio-tools) (0.14.0)\n",
      "Requirement already satisfied: audioread>=2.1.9 in /home/ec2-user/anaconda3/envs/pytorch_p310/lib/python3.10/site-packages (from librosa>=0.8.1->aeiou==0.0.20->stable-audio-tools) (3.0.1)\n",
      "Requirement already satisfied: joblib>=0.14 in /home/ec2-user/anaconda3/envs/pytorch_p310/lib/python3.10/site-packages (from librosa>=0.8.1->aeiou==0.0.20->stable-audio-tools) (1.4.2)\n",
      "Requirement already satisfied: decorator>=4.0.10 in /home/ec2-user/anaconda3/envs/pytorch_p310/lib/python3.10/site-packages (from librosa>=0.8.1->aeiou==0.0.20->stable-audio-tools) (5.1.1)\n",
      "Requirement already satisfied: resampy>=0.2.2 in /home/ec2-user/anaconda3/envs/pytorch_p310/lib/python3.10/site-packages (from librosa>=0.8.1->aeiou==0.0.20->stable-audio-tools) (0.4.3)\n",
      "Requirement already satisfied: numba>=0.45.1 in /home/ec2-user/anaconda3/envs/pytorch_p310/lib/python3.10/site-packages (from librosa>=0.8.1->aeiou==0.0.20->stable-audio-tools) (0.59.1)\n",
      "Requirement already satisfied: pooch>=1.0 in /home/ec2-user/anaconda3/envs/pytorch_p310/lib/python3.10/site-packages (from librosa>=0.8.1->aeiou==0.0.20->stable-audio-tools) (1.8.2)\n",
      "Requirement already satisfied: contourpy>=1.0.1 in /home/ec2-user/anaconda3/envs/pytorch_p310/lib/python3.10/site-packages (from matplotlib->aeiou==0.0.20->stable-audio-tools) (1.2.1)\n",
      "Requirement already satisfied: cycler>=0.10 in /home/ec2-user/anaconda3/envs/pytorch_p310/lib/python3.10/site-packages (from matplotlib->aeiou==0.0.20->stable-audio-tools) (0.12.1)\n",
      "Requirement already satisfied: fonttools>=4.22.0 in /home/ec2-user/anaconda3/envs/pytorch_p310/lib/python3.10/site-packages (from matplotlib->aeiou==0.0.20->stable-audio-tools) (4.53.0)\n",
      "Requirement already satisfied: kiwisolver>=1.3.1 in /home/ec2-user/anaconda3/envs/pytorch_p310/lib/python3.10/site-packages (from matplotlib->aeiou==0.0.20->stable-audio-tools) (1.4.5)\n",
      "Requirement already satisfied: pyparsing>=2.3.1 in /home/ec2-user/anaconda3/envs/pytorch_p310/lib/python3.10/site-packages (from matplotlib->aeiou==0.0.20->stable-audio-tools) (3.1.2)\n",
      "Requirement already satisfied: annotated-types>=0.4.0 in /home/ec2-user/anaconda3/envs/pytorch_p310/lib/python3.10/site-packages (from pydantic>=2.0->gradio>=3.42.0->stable-audio-tools) (0.7.0)\n",
      "Requirement already satisfied: pydantic-core==2.18.4 in /home/ec2-user/anaconda3/envs/pytorch_p310/lib/python3.10/site-packages (from pydantic>=2.0->gradio>=3.42.0->stable-audio-tools) (2.18.4)\n",
      "Requirement already satisfied: charset-normalizer<4,>=2 in /home/ec2-user/anaconda3/envs/pytorch_p310/lib/python3.10/site-packages (from requests->v-diffusion-pytorch==0.0.2->stable-audio-tools) (3.3.2)\n",
      "Requirement already satisfied: threadpoolctl>=3.1.0 in /home/ec2-user/anaconda3/envs/pytorch_p310/lib/python3.10/site-packages (from scikit-learn->laion-clap==1.1.4->stable-audio-tools) (3.5.0)\n",
      "Requirement already satisfied: cffi>=1.0 in /home/ec2-user/anaconda3/envs/pytorch_p310/lib/python3.10/site-packages (from soundfile<=0.10.2->aeiou==0.0.20->stable-audio-tools) (1.16.0)\n",
      "Requirement already satisfied: shellingham>=1.3.0 in /home/ec2-user/anaconda3/envs/pytorch_p310/lib/python3.10/site-packages (from typer<1.0,>=0.12->gradio>=3.42.0->stable-audio-tools) (1.5.4)\n",
      "Requirement already satisfied: tornado>=6.2 in /home/ec2-user/anaconda3/envs/pytorch_p310/lib/python3.10/site-packages (from bokeh->aeiou==0.0.20->stable-audio-tools) (6.4)\n",
      "Requirement already satisfied: xyzservices>=2021.09.1 in /home/ec2-user/anaconda3/envs/pytorch_p310/lib/python3.10/site-packages (from bokeh->aeiou==0.0.20->stable-audio-tools) (2024.4.0)\n",
      "Requirement already satisfied: starlette<0.38.0,>=0.37.2 in /home/ec2-user/anaconda3/envs/pytorch_p310/lib/python3.10/site-packages (from fastapi->gradio>=3.42.0->stable-audio-tools) (0.37.2)\n",
      "Requirement already satisfied: fastapi-cli>=0.0.2 in /home/ec2-user/anaconda3/envs/pytorch_p310/lib/python3.10/site-packages (from fastapi->gradio>=3.42.0->stable-audio-tools) (0.0.4)\n",
      "Requirement already satisfied: ujson!=4.0.2,!=4.1.0,!=4.2.0,!=4.3.0,!=5.0.0,!=5.1.0,>=4.0.1 in /home/ec2-user/anaconda3/envs/pytorch_p310/lib/python3.10/site-packages (from fastapi->gradio>=3.42.0->stable-audio-tools) (5.10.0)\n",
      "Requirement already satisfied: email_validator>=2.0.0 in /home/ec2-user/anaconda3/envs/pytorch_p310/lib/python3.10/site-packages (from fastapi->gradio>=3.42.0->stable-audio-tools) (2.2.0)\n",
      "Requirement already satisfied: wcwidth<0.3.0,>=0.2.12 in /home/ec2-user/anaconda3/envs/pytorch_p310/lib/python3.10/site-packages (from ftfy->laion-clap==1.1.4->stable-audio-tools) (0.2.13)\n",
      "Requirement already satisfied: colorcet in /home/ec2-user/anaconda3/envs/pytorch_p310/lib/python3.10/site-packages (from holoviews->aeiou==0.0.20->stable-audio-tools) (3.1.0)\n",
      "Requirement already satisfied: panel>=1.0 in /home/ec2-user/anaconda3/envs/pytorch_p310/lib/python3.10/site-packages (from holoviews->aeiou==0.0.20->stable-audio-tools) (1.4.4)\n",
      "Requirement already satisfied: param<3.0,>=2.0 in /home/ec2-user/anaconda3/envs/pytorch_p310/lib/python3.10/site-packages (from holoviews->aeiou==0.0.20->stable-audio-tools) (2.1.1)\n",
      "Requirement already satisfied: pyviz-comms>=2.1 in /home/ec2-user/anaconda3/envs/pytorch_p310/lib/python3.10/site-packages (from holoviews->aeiou==0.0.20->stable-audio-tools) (3.0.2)\n",
      "Requirement already satisfied: jedi>=0.16 in /home/ec2-user/anaconda3/envs/pytorch_p310/lib/python3.10/site-packages (from ipython->aeiou==0.0.20->stable-audio-tools) (0.19.1)\n",
      "Requirement already satisfied: matplotlib-inline in /home/ec2-user/anaconda3/envs/pytorch_p310/lib/python3.10/site-packages (from ipython->aeiou==0.0.20->stable-audio-tools) (0.1.7)\n",
      "Requirement already satisfied: prompt-toolkit<3.1.0,>=3.0.41 in /home/ec2-user/anaconda3/envs/pytorch_p310/lib/python3.10/site-packages (from ipython->aeiou==0.0.20->stable-audio-tools) (3.0.46)\n",
      "Requirement already satisfied: pygments>=2.4.0 in /home/ec2-user/anaconda3/envs/pytorch_p310/lib/python3.10/site-packages (from ipython->aeiou==0.0.20->stable-audio-tools) (2.18.0)\n",
      "Requirement already satisfied: stack-data in /home/ec2-user/anaconda3/envs/pytorch_p310/lib/python3.10/site-packages (from ipython->aeiou==0.0.20->stable-audio-tools) (0.6.2)\n",
      "Requirement already satisfied: traitlets>=5.13.0 in /home/ec2-user/anaconda3/envs/pytorch_p310/lib/python3.10/site-packages (from ipython->aeiou==0.0.20->stable-audio-tools) (5.14.3)\n",
      "Requirement already satisfied: exceptiongroup in /home/ec2-user/anaconda3/envs/pytorch_p310/lib/python3.10/site-packages (from ipython->aeiou==0.0.20->stable-audio-tools) (1.2.0)\n",
      "Requirement already satisfied: pexpect>4.3 in /home/ec2-user/anaconda3/envs/pytorch_p310/lib/python3.10/site-packages (from ipython->aeiou==0.0.20->stable-audio-tools) (4.9.0)\n",
      "Requirement already satisfied: kornia-rs>=0.1.0 in /home/ec2-user/anaconda3/envs/pytorch_p310/lib/python3.10/site-packages (from kornia->k-diffusion==0.1.1->stable-audio-tools) (0.1.5)\n",
      "Requirement already satisfied: tenacity>=6.2.0 in /home/ec2-user/anaconda3/envs/pytorch_p310/lib/python3.10/site-packages (from plotly->aeiou==0.0.20->stable-audio-tools) (8.3.0)\n",
      "Requirement already satisfied: imageio>=2.33 in /home/ec2-user/anaconda3/envs/pytorch_p310/lib/python3.10/site-packages (from scikit-image->k-diffusion==0.1.1->stable-audio-tools) (2.34.1)\n",
      "Requirement already satisfied: tifffile>=2022.8.12 in /home/ec2-user/anaconda3/envs/pytorch_p310/lib/python3.10/site-packages (from scikit-image->k-diffusion==0.1.1->stable-audio-tools) (2024.7.2)\n",
      "Requirement already satisfied: lazy-loader>=0.4 in /home/ec2-user/anaconda3/envs/pytorch_p310/lib/python3.10/site-packages (from scikit-image->k-diffusion==0.1.1->stable-audio-tools) (0.4)\n",
      "Requirement already satisfied: mpmath>=0.19 in /home/ec2-user/anaconda3/envs/pytorch_p310/lib/python3.10/site-packages (from sympy->torch>=2.0.1->stable-audio-tools) (1.3.0)\n",
      "Requirement already satisfied: trampoline>=0.1.2 in /home/ec2-user/anaconda3/envs/pytorch_p310/lib/python3.10/site-packages (from torchsde->k-diffusion==0.1.1->stable-audio-tools) (0.1.2)\n",
      "Requirement already satisfied: pynndescent>=0.5 in /home/ec2-user/anaconda3/envs/pytorch_p310/lib/python3.10/site-packages (from umap-learn->aeiou==0.0.20->stable-audio-tools) (0.5.13)\n",
      "Requirement already satisfied: aiosignal>=1.1.2 in /home/ec2-user/anaconda3/envs/pytorch_p310/lib/python3.10/site-packages (from aiohttp!=4.0.0a0,!=4.0.0a1->fsspec[http]>2021.06.0->pytorch-lightning==2.1.0->stable-audio-tools) (1.3.1)\n",
      "Requirement already satisfied: attrs>=17.3.0 in /home/ec2-user/anaconda3/envs/pytorch_p310/lib/python3.10/site-packages (from aiohttp!=4.0.0a0,!=4.0.0a1->fsspec[http]>2021.06.0->pytorch-lightning==2.1.0->stable-audio-tools) (23.2.0)\n",
      "Requirement already satisfied: frozenlist>=1.1.1 in /home/ec2-user/anaconda3/envs/pytorch_p310/lib/python3.10/site-packages (from aiohttp!=4.0.0a0,!=4.0.0a1->fsspec[http]>2021.06.0->pytorch-lightning==2.1.0->stable-audio-tools) (1.4.1)\n",
      "Requirement already satisfied: multidict<7.0,>=4.5 in /home/ec2-user/anaconda3/envs/pytorch_p310/lib/python3.10/site-packages (from aiohttp!=4.0.0a0,!=4.0.0a1->fsspec[http]>2021.06.0->pytorch-lightning==2.1.0->stable-audio-tools) (6.0.5)\n",
      "Requirement already satisfied: yarl<2.0,>=1.0 in /home/ec2-user/anaconda3/envs/pytorch_p310/lib/python3.10/site-packages (from aiohttp!=4.0.0a0,!=4.0.0a1->fsspec[http]>2021.06.0->pytorch-lightning==2.1.0->stable-audio-tools) (1.9.4)\n",
      "Requirement already satisfied: async-timeout<5.0,>=4.0 in /home/ec2-user/anaconda3/envs/pytorch_p310/lib/python3.10/site-packages (from aiohttp!=4.0.0a0,!=4.0.0a1->fsspec[http]>2021.06.0->pytorch-lightning==2.1.0->stable-audio-tools) (4.0.3)\n",
      "Requirement already satisfied: pycparser in /home/ec2-user/anaconda3/envs/pytorch_p310/lib/python3.10/site-packages (from cffi>=1.0->soundfile<=0.10.2->aeiou==0.0.20->stable-audio-tools) (2.22)\n",
      "Requirement already satisfied: dnspython>=2.0.0 in /home/ec2-user/anaconda3/envs/pytorch_p310/lib/python3.10/site-packages (from email_validator>=2.0.0->fastapi->gradio>=3.42.0->stable-audio-tools) (2.6.1)\n",
      "Requirement already satisfied: smmap<6,>=3.0.1 in /home/ec2-user/anaconda3/envs/pytorch_p310/lib/python3.10/site-packages (from gitdb<5,>=4.0.1->GitPython!=3.1.29,>=1.0.0->wandb==0.15.4->stable-audio-tools) (5.0.1)\n",
      "Requirement already satisfied: parso<0.9.0,>=0.8.3 in /home/ec2-user/anaconda3/envs/pytorch_p310/lib/python3.10/site-packages (from jedi>=0.16->ipython->aeiou==0.0.20->stable-audio-tools) (0.8.4)\n",
      "Requirement already satisfied: jsonschema-specifications>=2023.03.6 in /home/ec2-user/anaconda3/envs/pytorch_p310/lib/python3.10/site-packages (from jsonschema>=3.0->altair<6.0,>=5.0->gradio>=3.42.0->stable-audio-tools) (2023.12.1)\n",
      "Requirement already satisfied: referencing>=0.28.4 in /home/ec2-user/anaconda3/envs/pytorch_p310/lib/python3.10/site-packages (from jsonschema>=3.0->altair<6.0,>=5.0->gradio>=3.42.0->stable-audio-tools) (0.35.1)\n",
      "Requirement already satisfied: rpds-py>=0.7.1 in /home/ec2-user/anaconda3/envs/pytorch_p310/lib/python3.10/site-packages (from jsonschema>=3.0->altair<6.0,>=5.0->gradio>=3.42.0->stable-audio-tools) (0.18.1)\n",
      "Requirement already satisfied: markdown in /home/ec2-user/anaconda3/envs/pytorch_p310/lib/python3.10/site-packages (from panel>=1.0->holoviews->aeiou==0.0.20->stable-audio-tools) (3.6)\n",
      "Requirement already satisfied: markdown-it-py in /home/ec2-user/anaconda3/envs/pytorch_p310/lib/python3.10/site-packages (from panel>=1.0->holoviews->aeiou==0.0.20->stable-audio-tools) (3.0.0)\n",
      "Requirement already satisfied: linkify-it-py in /home/ec2-user/anaconda3/envs/pytorch_p310/lib/python3.10/site-packages (from panel>=1.0->holoviews->aeiou==0.0.20->stable-audio-tools) (2.0.3)\n",
      "Requirement already satisfied: mdit-py-plugins in /home/ec2-user/anaconda3/envs/pytorch_p310/lib/python3.10/site-packages (from panel>=1.0->holoviews->aeiou==0.0.20->stable-audio-tools) (0.4.1)\n",
      "Requirement already satisfied: bleach in /home/ec2-user/anaconda3/envs/pytorch_p310/lib/python3.10/site-packages (from panel>=1.0->holoviews->aeiou==0.0.20->stable-audio-tools) (6.1.0)\n",
      "Requirement already satisfied: ptyprocess>=0.5 in /home/ec2-user/anaconda3/envs/pytorch_p310/lib/python3.10/site-packages (from pexpect>4.3->ipython->aeiou==0.0.20->stable-audio-tools) (0.7.0)\n",
      "Requirement already satisfied: platformdirs>=2.5.0 in /home/ec2-user/anaconda3/envs/pytorch_p310/lib/python3.10/site-packages (from pooch>=1.0->librosa>=0.8.1->aeiou==0.0.20->stable-audio-tools) (4.2.2)\n",
      "Requirement already satisfied: httptools>=0.5.0 in /home/ec2-user/anaconda3/envs/pytorch_p310/lib/python3.10/site-packages (from uvicorn[standard]>=0.12.0->fastapi->gradio>=3.42.0->stable-audio-tools) (0.6.1)\n",
      "Requirement already satisfied: python-dotenv>=0.13 in /home/ec2-user/anaconda3/envs/pytorch_p310/lib/python3.10/site-packages (from uvicorn[standard]>=0.12.0->fastapi->gradio>=3.42.0->stable-audio-tools) (1.0.1)\n",
      "Requirement already satisfied: uvloop!=0.15.0,!=0.15.1,>=0.14.0 in /home/ec2-user/anaconda3/envs/pytorch_p310/lib/python3.10/site-packages (from uvicorn[standard]>=0.12.0->fastapi->gradio>=3.42.0->stable-audio-tools) (0.19.0)\n",
      "Requirement already satisfied: watchfiles>=0.13 in /home/ec2-user/anaconda3/envs/pytorch_p310/lib/python3.10/site-packages (from uvicorn[standard]>=0.12.0->fastapi->gradio>=3.42.0->stable-audio-tools) (0.22.0)\n",
      "Requirement already satisfied: future>=0.16.0 in /home/ec2-user/anaconda3/envs/pytorch_p310/lib/python3.10/site-packages (from pyloudnorm->descript-audiotools>=0.7.2->descript-audio-codec==1.0.0->stable-audio-tools) (1.0.0)\n",
      "Requirement already satisfied: fire in /home/ec2-user/anaconda3/envs/pytorch_p310/lib/python3.10/site-packages (from randomname->descript-audiotools>=0.7.2->descript-audio-codec==1.0.0->stable-audio-tools) (0.6.0)\n",
      "Requirement already satisfied: executing>=1.2.0 in /home/ec2-user/anaconda3/envs/pytorch_p310/lib/python3.10/site-packages (from stack-data->ipython->aeiou==0.0.20->stable-audio-tools) (2.0.1)\n",
      "Requirement already satisfied: asttokens>=2.1.0 in /home/ec2-user/anaconda3/envs/pytorch_p310/lib/python3.10/site-packages (from stack-data->ipython->aeiou==0.0.20->stable-audio-tools) (2.4.1)\n",
      "Requirement already satisfied: pure-eval in /home/ec2-user/anaconda3/envs/pytorch_p310/lib/python3.10/site-packages (from stack-data->ipython->aeiou==0.0.20->stable-audio-tools) (0.2.2)\n",
      "Requirement already satisfied: absl-py>=0.4 in /home/ec2-user/anaconda3/envs/pytorch_p310/lib/python3.10/site-packages (from tensorboard->descript-audiotools>=0.7.2->descript-audio-codec==1.0.0->stable-audio-tools) (2.1.0)\n",
      "Requirement already satisfied: grpcio>=1.48.2 in /home/ec2-user/anaconda3/envs/pytorch_p310/lib/python3.10/site-packages (from tensorboard->descript-audiotools>=0.7.2->descript-audio-codec==1.0.0->stable-audio-tools) (1.64.1)\n",
      "Requirement already satisfied: tensorboard-data-server<0.8.0,>=0.7.0 in /home/ec2-user/anaconda3/envs/pytorch_p310/lib/python3.10/site-packages (from tensorboard->descript-audiotools>=0.7.2->descript-audio-codec==1.0.0->stable-audio-tools) (0.7.2)\n",
      "Requirement already satisfied: werkzeug>=1.0.1 in /home/ec2-user/anaconda3/envs/pytorch_p310/lib/python3.10/site-packages (from tensorboard->descript-audiotools>=0.7.2->descript-audio-codec==1.0.0->stable-audio-tools) (3.0.3)\n",
      "Requirement already satisfied: mdurl~=0.1 in /home/ec2-user/anaconda3/envs/pytorch_p310/lib/python3.10/site-packages (from markdown-it-py->panel>=1.0->holoviews->aeiou==0.0.20->stable-audio-tools) (0.1.2)\n",
      "Requirement already satisfied: webencodings in /home/ec2-user/anaconda3/envs/pytorch_p310/lib/python3.10/site-packages (from bleach->panel>=1.0->holoviews->aeiou==0.0.20->stable-audio-tools) (0.5.1)\n",
      "Requirement already satisfied: termcolor in /home/ec2-user/anaconda3/envs/pytorch_p310/lib/python3.10/site-packages (from fire->randomname->descript-audiotools>=0.7.2->descript-audio-codec==1.0.0->stable-audio-tools) (2.4.0)\n",
      "Requirement already satisfied: uc-micro-py in /home/ec2-user/anaconda3/envs/pytorch_p310/lib/python3.10/site-packages (from linkify-it-py->panel>=1.0->holoviews->aeiou==0.0.20->stable-audio-tools) (1.0.3)\n",
      "Using cached argparse-1.4.0-py2.py3-none-any.whl (23 kB)\n",
      "Installing collected packages: argparse\n",
      "Successfully installed argparse-1.4.0\n"
     ]
    }
   ],
   "source": [
    "!pip install stable-audio-tools"
   ]
  },
  {
   "cell_type": "code",
   "execution_count": 22,
   "id": "9a11a44d-6163-445e-8a19-9644fafd3c68",
   "metadata": {
    "tags": []
   },
   "outputs": [],
   "source": [
    "import os\n",
    "os.environ[\"WANDB_API_KEY\"] = \"5fba2404cdb24b50df5ac10cf95fc5a9099f7b2d\""
   ]
  },
  {
   "cell_type": "code",
   "execution_count": 23,
   "id": "9588e25d-40b3-4745-8af8-b4e43efdb081",
   "metadata": {
    "tags": []
   },
   "outputs": [
    {
     "name": "stdout",
     "output_type": "stream",
     "text": [
      "\u001b[34m\u001b[1mwandb\u001b[0m: Currently logged in as: \u001b[33mrayan-anser\u001b[0m (\u001b[33msammusic\u001b[0m). Use \u001b[1m`wandb login --relogin`\u001b[0m to force relogin\n"
     ]
    }
   ],
   "source": [
    "!wandb login"
   ]
  },
  {
   "cell_type": "code",
   "execution_count": 24,
   "id": "916aabba-127a-4528-b218-c60efd44ad16",
   "metadata": {
    "tags": []
   },
   "outputs": [
    {
     "name": "stdout",
     "output_type": "stream",
     "text": [
      "Collecting package metadata (current_repodata.json): \\ WARNING conda.models.version:get_matcher(546): Using .* with relational operator is superfluous and deprecated and will be removed in a future version of conda. Your spec was 1.7.1.*, but conda is ignoring the .* and treating it as 1.7.1\n",
      "done\n",
      "Solving environment: done\n",
      "\n",
      "\n",
      "==> WARNING: A newer version of conda exists. <==\n",
      "  current version: 23.3.1\n",
      "  latest version: 24.5.0\n",
      "\n",
      "Please update conda by running\n",
      "\n",
      "    $ conda update -n base -c conda-forge conda\n",
      "\n",
      "Or to minimize the number of packages updated during conda update use\n",
      "\n",
      "     conda install conda=24.5.0\n",
      "\n",
      "\n",
      "\n",
      "## Package Plan ##\n",
      "\n",
      "  environment location: /home/ec2-user/anaconda3/envs/pytorch_p310\n",
      "\n",
      "  added / updated specs:\n",
      "    - libsndfile\n",
      "\n",
      "\n",
      "The following packages will be UPDATED:\n",
      "\n",
      "  certifi                             2024.2.2-pyhd8ed1ab_0 --> 2024.7.4-pyhd8ed1ab_0 \n",
      "\n",
      "\n",
      "\n",
      "Downloading and Extracting Packages\n",
      "\n",
      "Preparing transaction: done\n",
      "Verifying transaction: done\n",
      "Executing transaction: done\n"
     ]
    }
   ],
   "source": [
    "!conda install -y -c conda-forge libsndfile"
   ]
  },
  {
   "cell_type": "code",
   "execution_count": 25,
   "id": "fbcd32c6-c77d-4aff-84d9-fa9e0f597eb9",
   "metadata": {
    "tags": []
   },
   "outputs": [
    {
     "name": "stdout",
     "output_type": "stream",
     "text": [
      "Requirement already satisfied: soundfile in /home/ec2-user/anaconda3/envs/pytorch_p310/lib/python3.10/site-packages (0.10.2)\n",
      "Requirement already satisfied: cffi>=1.0 in /home/ec2-user/anaconda3/envs/pytorch_p310/lib/python3.10/site-packages (from soundfile) (1.16.0)\n",
      "Requirement already satisfied: pycparser in /home/ec2-user/anaconda3/envs/pytorch_p310/lib/python3.10/site-packages (from cffi>=1.0->soundfile) (2.22)\n"
     ]
    }
   ],
   "source": [
    "!pip install soundfile"
   ]
  },
  {
   "cell_type": "code",
   "execution_count": 26,
   "id": "ba5a03f4-bd76-4fce-bf22-1706970869b9",
   "metadata": {
    "tags": []
   },
   "outputs": [
    {
     "name": "stdout",
     "output_type": "stream",
     "text": [
      "Requirement already satisfied: torch in /home/ec2-user/anaconda3/envs/pytorch_p310/lib/python3.10/site-packages (2.2.0)\n",
      "Requirement already satisfied: torchvision in /home/ec2-user/anaconda3/envs/pytorch_p310/lib/python3.10/site-packages (0.17.0)\n",
      "Requirement already satisfied: filelock in /home/ec2-user/anaconda3/envs/pytorch_p310/lib/python3.10/site-packages (from torch) (3.14.0)\n",
      "Requirement already satisfied: typing-extensions>=4.8.0 in /home/ec2-user/anaconda3/envs/pytorch_p310/lib/python3.10/site-packages (from torch) (4.12.1)\n",
      "Requirement already satisfied: sympy in /home/ec2-user/anaconda3/envs/pytorch_p310/lib/python3.10/site-packages (from torch) (1.12)\n",
      "Requirement already satisfied: networkx in /home/ec2-user/anaconda3/envs/pytorch_p310/lib/python3.10/site-packages (from torch) (3.3)\n",
      "Requirement already satisfied: jinja2 in /home/ec2-user/anaconda3/envs/pytorch_p310/lib/python3.10/site-packages (from torch) (3.1.4)\n",
      "Requirement already satisfied: fsspec in /home/ec2-user/anaconda3/envs/pytorch_p310/lib/python3.10/site-packages (from torch) (2024.6.0)\n",
      "Requirement already satisfied: numpy in /home/ec2-user/anaconda3/envs/pytorch_p310/lib/python3.10/site-packages (from torchvision) (1.23.5)\n",
      "Requirement already satisfied: requests in /home/ec2-user/anaconda3/envs/pytorch_p310/lib/python3.10/site-packages (from torchvision) (2.32.3)\n",
      "Requirement already satisfied: pillow!=8.3.*,>=5.3.0 in /home/ec2-user/anaconda3/envs/pytorch_p310/lib/python3.10/site-packages (from torchvision) (10.3.0)\n",
      "Requirement already satisfied: MarkupSafe>=2.0 in /home/ec2-user/anaconda3/envs/pytorch_p310/lib/python3.10/site-packages (from jinja2->torch) (2.1.5)\n",
      "Requirement already satisfied: charset-normalizer<4,>=2 in /home/ec2-user/anaconda3/envs/pytorch_p310/lib/python3.10/site-packages (from requests->torchvision) (3.3.2)\n",
      "Requirement already satisfied: idna<4,>=2.5 in /home/ec2-user/anaconda3/envs/pytorch_p310/lib/python3.10/site-packages (from requests->torchvision) (3.7)\n",
      "Requirement already satisfied: urllib3<3,>=1.21.1 in /home/ec2-user/anaconda3/envs/pytorch_p310/lib/python3.10/site-packages (from requests->torchvision) (2.2.1)\n",
      "Requirement already satisfied: certifi>=2017.4.17 in /home/ec2-user/anaconda3/envs/pytorch_p310/lib/python3.10/site-packages (from requests->torchvision) (2024.7.4)\n",
      "Requirement already satisfied: mpmath>=0.19 in /home/ec2-user/anaconda3/envs/pytorch_p310/lib/python3.10/site-packages (from sympy->torch) (1.3.0)\n",
      "Note: you may need to restart the kernel to use updated packages.\n"
     ]
    }
   ],
   "source": [
    "pip install torch torchvision\n"
   ]
  },
  {
   "cell_type": "code",
   "execution_count": 27,
   "id": "a16ac823-40f2-4e35-8249-7e29310b57e7",
   "metadata": {
    "tags": []
   },
   "outputs": [
    {
     "name": "stdout",
     "output_type": "stream",
     "text": [
      "Requirement already satisfied: flash-attn in /home/ec2-user/anaconda3/envs/pytorch_p310/lib/python3.10/site-packages (2.6.1)\n",
      "Requirement already satisfied: torch in /home/ec2-user/anaconda3/envs/pytorch_p310/lib/python3.10/site-packages (from flash-attn) (2.2.0)\n",
      "Requirement already satisfied: einops in /home/ec2-user/anaconda3/envs/pytorch_p310/lib/python3.10/site-packages (from flash-attn) (0.7.0)\n",
      "Requirement already satisfied: filelock in /home/ec2-user/anaconda3/envs/pytorch_p310/lib/python3.10/site-packages (from torch->flash-attn) (3.14.0)\n",
      "Requirement already satisfied: typing-extensions>=4.8.0 in /home/ec2-user/anaconda3/envs/pytorch_p310/lib/python3.10/site-packages (from torch->flash-attn) (4.12.1)\n",
      "Requirement already satisfied: sympy in /home/ec2-user/anaconda3/envs/pytorch_p310/lib/python3.10/site-packages (from torch->flash-attn) (1.12)\n",
      "Requirement already satisfied: networkx in /home/ec2-user/anaconda3/envs/pytorch_p310/lib/python3.10/site-packages (from torch->flash-attn) (3.3)\n",
      "Requirement already satisfied: jinja2 in /home/ec2-user/anaconda3/envs/pytorch_p310/lib/python3.10/site-packages (from torch->flash-attn) (3.1.4)\n",
      "Requirement already satisfied: fsspec in /home/ec2-user/anaconda3/envs/pytorch_p310/lib/python3.10/site-packages (from torch->flash-attn) (2024.6.0)\n",
      "Requirement already satisfied: MarkupSafe>=2.0 in /home/ec2-user/anaconda3/envs/pytorch_p310/lib/python3.10/site-packages (from jinja2->torch->flash-attn) (2.1.5)\n",
      "Requirement already satisfied: mpmath>=0.19 in /home/ec2-user/anaconda3/envs/pytorch_p310/lib/python3.10/site-packages (from sympy->torch->flash-attn) (1.3.0)\n",
      "Note: you may need to restart the kernel to use updated packages.\n"
     ]
    }
   ],
   "source": [
    "pip install flash-attn"
   ]
  },
  {
   "cell_type": "code",
   "execution_count": 28,
   "id": "5b47c3cd-3eea-4578-9ddc-b4af827b9438",
   "metadata": {
    "tags": []
   },
   "outputs": [
    {
     "name": "stdout",
     "output_type": "stream",
     "text": [
      "Successfully accessed tar archive!\n"
     ]
    }
   ],
   "source": [
    "import boto3\n",
    "\n",
    "s3 = boto3.resource('s3')\n",
    "bucket_name = 'sagemaker-eu-west-2-339470605340'\n",
    "tar_file_key = 'webdataset_audio/audio_dataset-00001.tar'  # The key (path) to your tar archive in S3\n",
    "\n",
    "try:\n",
    "    obj = s3.Object(bucket_name, tar_file_key).get()\n",
    "    print(\"Successfully accessed tar archive!\")\n",
    "except Exception as e:\n",
    "    print(f\"Error accessing tar archive: {e}\")"
   ]
  },
  {
   "cell_type": "code",
   "execution_count": 29,
   "id": "477f1d79-7a64-4328-b39a-7298f80a7315",
   "metadata": {
    "tags": []
   },
   "outputs": [],
   "source": [
    "#télécharge le model en local\n",
    "import boto3\n",
    "\n",
    "s3 = boto3.client('s3')\n",
    "s3.download_file('sagemaker-eu-west-2-339470605340', 'model.safetensors', 'model.safetensors')\n",
    "#puis mettre le fichier dans stable_open_model_files"
   ]
  },
  {
   "cell_type": "code",
   "execution_count": 30,
   "id": "0a6c8bd7-5445-4845-b129-7983c6b9febd",
   "metadata": {
    "tags": []
   },
   "outputs": [
    {
     "name": "stdout",
     "output_type": "stream",
     "text": [
      "Requirement already satisfied: torch in /home/ec2-user/anaconda3/envs/pytorch_p310/lib/python3.10/site-packages (2.2.0)\n",
      "Requirement already satisfied: torchaudio in /home/ec2-user/anaconda3/envs/pytorch_p310/lib/python3.10/site-packages (2.2.0)\n",
      "Requirement already satisfied: filelock in /home/ec2-user/anaconda3/envs/pytorch_p310/lib/python3.10/site-packages (from torch) (3.14.0)\n",
      "Requirement already satisfied: typing-extensions>=4.8.0 in /home/ec2-user/anaconda3/envs/pytorch_p310/lib/python3.10/site-packages (from torch) (4.12.1)\n",
      "Requirement already satisfied: sympy in /home/ec2-user/anaconda3/envs/pytorch_p310/lib/python3.10/site-packages (from torch) (1.12)\n",
      "Requirement already satisfied: networkx in /home/ec2-user/anaconda3/envs/pytorch_p310/lib/python3.10/site-packages (from torch) (3.3)\n",
      "Requirement already satisfied: jinja2 in /home/ec2-user/anaconda3/envs/pytorch_p310/lib/python3.10/site-packages (from torch) (3.1.4)\n",
      "Requirement already satisfied: fsspec in /home/ec2-user/anaconda3/envs/pytorch_p310/lib/python3.10/site-packages (from torch) (2024.6.0)\n",
      "Requirement already satisfied: MarkupSafe>=2.0 in /home/ec2-user/anaconda3/envs/pytorch_p310/lib/python3.10/site-packages (from jinja2->torch) (2.1.5)\n",
      "Requirement already satisfied: mpmath>=0.19 in /home/ec2-user/anaconda3/envs/pytorch_p310/lib/python3.10/site-packages (from sympy->torch) (1.3.0)\n"
     ]
    }
   ],
   "source": [
    "#installe les bonnes version pour torch et torch audio\n",
    "!pip install torch torchaudio"
   ]
  },
  {
   "cell_type": "code",
   "execution_count": 31,
   "id": "e88e39a1-ecda-4f7b-a1cf-883562278144",
   "metadata": {
    "tags": []
   },
   "outputs": [
    {
     "name": "stdout",
     "output_type": "stream",
     "text": [
      "Sat Jul 13 13:58:41 2024       \n",
      "+---------------------------------------------------------------------------------------+\n",
      "| NVIDIA-SMI 535.183.01             Driver Version: 535.183.01   CUDA Version: 12.2     |\n",
      "|-----------------------------------------+----------------------+----------------------+\n",
      "| GPU  Name                 Persistence-M | Bus-Id        Disp.A | Volatile Uncorr. ECC |\n",
      "| Fan  Temp   Perf          Pwr:Usage/Cap |         Memory-Usage | GPU-Util  Compute M. |\n",
      "|                                         |                      |               MIG M. |\n",
      "|=========================================+======================+======================|\n",
      "|   0  NVIDIA A10G                    On  | 00000000:00:1B.0 Off |                    0 |\n",
      "|  0%   30C    P0              58W / 300W |    256MiB / 23028MiB |      0%      Default |\n",
      "|                                         |                      |                  N/A |\n",
      "+-----------------------------------------+----------------------+----------------------+\n",
      "|   1  NVIDIA A10G                    On  | 00000000:00:1C.0 Off |                    0 |\n",
      "|  0%   25C    P8               9W / 300W |      3MiB / 23028MiB |      0%      Default |\n",
      "|                                         |                      |                  N/A |\n",
      "+-----------------------------------------+----------------------+----------------------+\n",
      "|   2  NVIDIA A10G                    On  | 00000000:00:1D.0 Off |                    0 |\n",
      "|  0%   24C    P8               8W / 300W |      3MiB / 23028MiB |      0%      Default |\n",
      "|                                         |                      |                  N/A |\n",
      "+-----------------------------------------+----------------------+----------------------+\n",
      "|   3  NVIDIA A10G                    On  | 00000000:00:1E.0 Off |                    0 |\n",
      "|  0%   26C    P8              15W / 300W |      3MiB / 23028MiB |      0%      Default |\n",
      "|                                         |                      |                  N/A |\n",
      "+-----------------------------------------+----------------------+----------------------+\n",
      "                                                                                         \n",
      "+---------------------------------------------------------------------------------------+\n",
      "| Processes:                                                                            |\n",
      "|  GPU   GI   CI        PID   Type   Process name                            GPU Memory |\n",
      "|        ID   ID                                                             Usage      |\n",
      "|=======================================================================================|\n",
      "|    0   N/A  N/A     22592      C   ...conda3/envs/pytorch_p310/bin/python      248MiB |\n",
      "+---------------------------------------------------------------------------------------+\n"
     ]
    }
   ],
   "source": [
    "!nvidia-smi\n"
   ]
  },
  {
   "cell_type": "code",
   "execution_count": 32,
   "id": "b39e9646-2a81-4e6b-8208-96153380ac17",
   "metadata": {
    "tags": []
   },
   "outputs": [],
   "source": [
    "import torch\n",
    "torch.cuda.set_per_process_memory_fraction(0.9)"
   ]
  },
  {
   "cell_type": "code",
   "execution_count": 33,
   "id": "ef4b7863-bbd3-4efb-bc25-7156cb82a841",
   "metadata": {
    "tags": []
   },
   "outputs": [],
   "source": [
    "import torch\n",
    "torch.backends.cuda.max_split_size_mb = 128"
   ]
  },
  {
   "cell_type": "code",
   "execution_count": 34,
   "id": "3b2f3b51-fc99-4139-9e4f-1ff0d5e7f0a0",
   "metadata": {
    "tags": []
   },
   "outputs": [
    {
     "name": "stdout",
     "output_type": "stream",
     "text": [
      "Requirement already satisfied: deepspeed in /home/ec2-user/anaconda3/envs/pytorch_p310/lib/python3.10/site-packages (0.14.4)\n",
      "Requirement already satisfied: hjson in /home/ec2-user/anaconda3/envs/pytorch_p310/lib/python3.10/site-packages (from deepspeed) (3.1.0)\n",
      "Requirement already satisfied: ninja in /home/ec2-user/anaconda3/envs/pytorch_p310/lib/python3.10/site-packages (from deepspeed) (1.11.1.1)\n",
      "Requirement already satisfied: numpy in /home/ec2-user/anaconda3/envs/pytorch_p310/lib/python3.10/site-packages (from deepspeed) (1.23.5)\n",
      "Requirement already satisfied: nvidia-ml-py in /home/ec2-user/anaconda3/envs/pytorch_p310/lib/python3.10/site-packages (from deepspeed) (12.555.43)\n",
      "Requirement already satisfied: packaging>=20.0 in /home/ec2-user/anaconda3/envs/pytorch_p310/lib/python3.10/site-packages (from deepspeed) (21.3)\n",
      "Requirement already satisfied: psutil in /home/ec2-user/anaconda3/envs/pytorch_p310/lib/python3.10/site-packages (from deepspeed) (5.9.8)\n",
      "Requirement already satisfied: py-cpuinfo in /home/ec2-user/anaconda3/envs/pytorch_p310/lib/python3.10/site-packages (from deepspeed) (9.0.0)\n",
      "Requirement already satisfied: pydantic in /home/ec2-user/anaconda3/envs/pytorch_p310/lib/python3.10/site-packages (from deepspeed) (2.7.3)\n",
      "Requirement already satisfied: torch in /home/ec2-user/anaconda3/envs/pytorch_p310/lib/python3.10/site-packages (from deepspeed) (2.2.0)\n",
      "Requirement already satisfied: tqdm in /home/ec2-user/anaconda3/envs/pytorch_p310/lib/python3.10/site-packages (from deepspeed) (4.66.4)\n",
      "Requirement already satisfied: pyparsing!=3.0.5,>=2.0.2 in /home/ec2-user/anaconda3/envs/pytorch_p310/lib/python3.10/site-packages (from packaging>=20.0->deepspeed) (3.1.2)\n",
      "Requirement already satisfied: annotated-types>=0.4.0 in /home/ec2-user/anaconda3/envs/pytorch_p310/lib/python3.10/site-packages (from pydantic->deepspeed) (0.7.0)\n",
      "Requirement already satisfied: pydantic-core==2.18.4 in /home/ec2-user/anaconda3/envs/pytorch_p310/lib/python3.10/site-packages (from pydantic->deepspeed) (2.18.4)\n",
      "Requirement already satisfied: typing-extensions>=4.6.1 in /home/ec2-user/anaconda3/envs/pytorch_p310/lib/python3.10/site-packages (from pydantic->deepspeed) (4.12.1)\n",
      "Requirement already satisfied: filelock in /home/ec2-user/anaconda3/envs/pytorch_p310/lib/python3.10/site-packages (from torch->deepspeed) (3.14.0)\n",
      "Requirement already satisfied: sympy in /home/ec2-user/anaconda3/envs/pytorch_p310/lib/python3.10/site-packages (from torch->deepspeed) (1.12)\n",
      "Requirement already satisfied: networkx in /home/ec2-user/anaconda3/envs/pytorch_p310/lib/python3.10/site-packages (from torch->deepspeed) (3.3)\n",
      "Requirement already satisfied: jinja2 in /home/ec2-user/anaconda3/envs/pytorch_p310/lib/python3.10/site-packages (from torch->deepspeed) (3.1.4)\n",
      "Requirement already satisfied: fsspec in /home/ec2-user/anaconda3/envs/pytorch_p310/lib/python3.10/site-packages (from torch->deepspeed) (2024.6.0)\n",
      "Requirement already satisfied: MarkupSafe>=2.0 in /home/ec2-user/anaconda3/envs/pytorch_p310/lib/python3.10/site-packages (from jinja2->torch->deepspeed) (2.1.5)\n",
      "Requirement already satisfied: mpmath>=0.19 in /home/ec2-user/anaconda3/envs/pytorch_p310/lib/python3.10/site-packages (from sympy->torch->deepspeed) (1.3.0)\n",
      "Note: you may need to restart the kernel to use updated packages.\n"
     ]
    }
   ],
   "source": [
    "pip install -U deepspeed"
   ]
  },
  {
   "cell_type": "code",
   "execution_count": 35,
   "id": "af325e6d-330c-4993-9fd7-5c2e218e45e2",
   "metadata": {
    "tags": []
   },
   "outputs": [
    {
     "name": "stdout",
     "output_type": "stream",
     "text": [
      "Traceback (most recent call last):\n",
      "  File \"/home/ec2-user/SageMaker/stable-audio-tools-sam/train.py\", line 176, in <module>\n",
      "    main()\n",
      "  File \"/home/ec2-user/SageMaker/stable-audio-tools-sam/train.py\", line 102, in main\n",
      "    model = create_model_from_config(model_config)\n",
      "  File \"/home/ec2-user/SageMaker/stable-audio-tools-sam/stable_audio_tools/models/factory.py\", line 15, in create_model_from_config\n",
      "    from .diffusion import create_diffusion_cond_from_config\n",
      "  File \"/home/ec2-user/SageMaker/stable-audio-tools-sam/stable_audio_tools/models/diffusion.py\", line 13, in <module>\n",
      "    from ..inference.generation import generate_diffusion_cond\n",
      "  File \"/home/ec2-user/SageMaker/stable-audio-tools-sam/stable_audio_tools/inference/generation.py\", line 8, in <module>\n",
      "    from .sampling import sample, sample_k, sample_rf\n",
      "  File \"/home/ec2-user/SageMaker/stable-audio-tools-sam/stable_audio_tools/inference/sampling.py\", line 5, in <module>\n",
      "    import k_diffusion as K\n",
      "  File \"/home/ec2-user/anaconda3/envs/pytorch_p310/lib/python3.10/site-packages/k_diffusion/__init__.py\", line 1, in <module>\n",
      "    from . import augmentation, config, evaluation, external, gns, layers, models, sampling, utils\n",
      "  File \"/home/ec2-user/anaconda3/envs/pytorch_p310/lib/python3.10/site-packages/k_diffusion/evaluation.py\", line 6, in <module>\n",
      "    import clip\n",
      "  File \"/home/ec2-user/anaconda3/envs/pytorch_p310/lib/python3.10/site-packages/clip/__init__.py\", line 1, in <module>\n",
      "    from .clip import *\n",
      "  File \"/home/ec2-user/anaconda3/envs/pytorch_p310/lib/python3.10/site-packages/clip/clip.py\", line 6, in <module>\n",
      "    from pkg_resources import packaging\n",
      "ImportError: cannot import name 'packaging' from 'pkg_resources' (/home/ec2-user/anaconda3/envs/pytorch_p310/lib/python3.10/site-packages/pkg_resources/__init__.py)\n"
     ]
    }
   ],
   "source": [
    "#lance l'entrainement\n",
    "!python stable-audio-tools-sam/train.py --model-config stable_open_model_files/model_config.json --dataset-config stable_open_model_files/dataset_config.json --name rayan-training --save-dir checkpoints --pretrained-ckpt-path stable_open_model_files/model.safetensors --batch-size 16 --num-gpus 4 --strategy deepspeed\n"
   ]
  },
  {
   "cell_type": "code",
   "execution_count": 6,
   "id": "af0df87f-fe2d-46d3-bcdf-8dbc90ffa796",
   "metadata": {
    "scrolled": true,
    "tags": []
   },
   "outputs": [
    {
     "name": "stdout",
     "output_type": "stream",
     "text": [
      "usage: train.py [-h] --model-config MODEL_CONFIG --dataset-config\n",
      "                DATASET_CONFIG [--name NAME] [--save-dir SAVE_DIR]\n",
      "                [--pretrained-ckpt-path PRETRAINED_CKPT_PATH] [--seed SEED]\n",
      "                [--num-workers NUM_WORKERS]\n",
      "                [--checkpoint-every CHECKPOINT_EVERY] [--strategy STRATEGY]\n",
      "                [--num-gpus NUM_GPUS] [--num-nodes NUM_NODES]\n",
      "                [--precision {32,16,bf16,16-mixed}]\n",
      "                [--accum-batches ACCUM_BATCHES]\n",
      "                [--gradient-clip-val GRADIENT_CLIP_VAL]\n",
      "                [--remove-pretransform-weight-norm {None,pre_load,post_load}]\n",
      "                [--pretransform-ckpt-path PRETRANSFORM_CKPT_PATH]\n",
      "                [--batch-size BATCH_SIZE] [--ckpt-path CKPT_PATH]\n",
      "\n",
      "Training script for Stable Audio Tools\n",
      "\n",
      "options:\n",
      "  -h, --help            show this help message and exit\n",
      "  --model-config MODEL_CONFIG\n",
      "                        Path to model config JSON file (relative to\n",
      "                        project_base_path)\n",
      "  --dataset-config DATASET_CONFIG\n",
      "                        Path to dataset config JSON file (relative to\n",
      "                        project_base_path)\n",
      "  --name NAME           Name of the training run (for WandB)\n",
      "  --save-dir SAVE_DIR   Directory to save checkpoints\n",
      "  --pretrained-ckpt-path PRETRAINED_CKPT_PATH\n",
      "                        Path to pretrained checkpoint\n",
      "  --seed SEED           Random seed\n",
      "  --num-workers NUM_WORKERS\n",
      "                        Number of dataloader workers\n",
      "  --checkpoint-every CHECKPOINT_EVERY\n",
      "                        Number of training steps between checkpoints\n",
      "  --strategy STRATEGY   Multi-GPU training strategy (e.g., ddp, deepspeed)\n",
      "  --num-gpus NUM_GPUS   Number of GPUs to use for training\n",
      "  --num-nodes NUM_NODES\n",
      "                        Number of nodes to use for training (for multi-node\n",
      "                        training)\n",
      "  --precision {32,16,bf16,16-mixed}\n",
      "                        Floating-point precision to use during training (32,\n",
      "                        16, bf16, 16-mixed)\n",
      "  --accum-batches ACCUM_BATCHES\n",
      "                        Number of batches for gradient accumulation\n",
      "  --gradient-clip-val GRADIENT_CLIP_VAL\n",
      "                        Value for gradient clipping\n",
      "  --remove-pretransform-weight-norm {None,pre_load,post_load}\n",
      "                        Whether to remove weight norm from the pretransform,\n",
      "                        and when to do it\n",
      "  --pretransform-ckpt-path PRETRANSFORM_CKPT_PATH\n",
      "                        Path to an unwrapped pretransform checkpoint\n",
      "  --batch-size BATCH_SIZE\n",
      "                        Batch size per GPU\n",
      "  --ckpt-path CKPT_PATH\n",
      "                        Path to checkpoint to resume training from\n"
     ]
    }
   ],
   "source": [
    "!python stable-audio-tools-sam/train.py -h"
   ]
  },
  {
   "cell_type": "code",
   "execution_count": null,
   "id": "c6cf7230-3dd8-4f72-aec4-7bc99143e9b7",
   "metadata": {},
   "outputs": [],
   "source": []
  }
 ],
 "metadata": {
  "kernelspec": {
   "display_name": "conda_pytorch_p310",
   "language": "python",
   "name": "conda_pytorch_p310"
  },
  "language_info": {
   "codemirror_mode": {
    "name": "ipython",
    "version": 3
   },
   "file_extension": ".py",
   "mimetype": "text/x-python",
   "name": "python",
   "nbconvert_exporter": "python",
   "pygments_lexer": "ipython3",
   "version": "3.10.14"
  }
 },
 "nbformat": 4,
 "nbformat_minor": 5
}
