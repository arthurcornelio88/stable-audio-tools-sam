{
 "cells": [
  {
   "cell_type": "markdown",
   "metadata": {},
   "source": [
    "# S.A.M. model training notebook\n"
   ]
  },
  {
   "cell_type": "markdown",
   "metadata": {},
   "source": [
    "## 🌎 Preparing the conda environment"
   ]
  },
  {
   "cell_type": "code",
   "execution_count": 2,
   "metadata": {},
   "outputs": [
    {
     "name": "stdout",
     "output_type": "stream",
     "text": [
      "Environment 'myenv' already exists\n",
      "Channels:\n",
      " - defaults\n",
      "Platform: linux-64\n",
      "Collecting package metadata (repodata.json): ...working... done\n",
      "Solving environment: ...working... done\n",
      "\n",
      "# All requested packages already installed.\n",
      "\n",
      "Environment 'myenv' is set up and Jupyter is installed.\n",
      "\n",
      "\n"
     ]
    }
   ],
   "source": [
    "'''\n",
    "    Download and install Conda:\n",
    "        1) in your terminal, type :\n",
    "            curl -O https://repo.anaconda.com/miniconda/Miniconda3-latest-Linux-x86_64.sh\n",
    "            sha256sum Miniconda3-latest-Linux-x86_64.sh\n",
    "            bash Miniconda3-latest-Linux-x86_64.sh\n",
    "        2) accept the licence term\n",
    "        3) say 'no' to auto-activate base\n",
    "    Setup conda environment.\n",
    "        1) in your terminal, type :\n",
    "            eval \"$(/home/arthurcornelio/miniconda3/bin/conda shell.zsh hook)\"\n",
    "                ### zsh is Arthur's bash\n",
    "                ### find your path to miniconda3, mine is arthurcornelio etc\n",
    "            conda activate base\n",
    "        2) open your vscode (code .) and, in this notebook, run this cell\n",
    "        3) select \"myenv\" in the kernel\n",
    "'''\n",
    "\n",
    "import subprocess\n",
    "\n",
    "# Ensure the script has executable permissions\n",
    "subprocess.run([\"chmod\", \"+x\", \"./setup_conda_env.sh\"], capture_output=True, text=True)\n",
    "\n",
    "# Run the setup script\n",
    "result = subprocess.run([\"./setup_conda_env.sh\"], capture_output=True, text=True)\n",
    "print(result.stdout)\n",
    "print(result.stderr)\n"
   ]
  },
  {
   "cell_type": "code",
   "execution_count": null,
   "metadata": {},
   "outputs": [],
   "source": []
  }
 ],
 "metadata": {
  "kernelspec": {
   "display_name": "Python 3",
   "language": "python",
   "name": "python3"
  },
  "language_info": {
   "codemirror_mode": {
    "name": "ipython",
    "version": 3
   },
   "file_extension": ".py",
   "mimetype": "text/x-python",
   "name": "python",
   "nbconvert_exporter": "python",
   "pygments_lexer": "ipython3",
   "version": "3.10.14"
  }
 },
 "nbformat": 4,
 "nbformat_minor": 2
}
